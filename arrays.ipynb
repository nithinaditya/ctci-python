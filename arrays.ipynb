{
  "nbformat": 4,
  "nbformat_minor": 0,
  "metadata": {
    "colab": {
      "provenance": [],
      "toc_visible": true,
      "authorship_tag": "ABX9TyPrcjUxUuuLvQS9ck0FLoFm",
      "include_colab_link": true
    },
    "kernelspec": {
      "name": "python3",
      "display_name": "Python 3"
    },
    "language_info": {
      "name": "python"
    }
  },
  "cells": [
    {
      "cell_type": "markdown",
      "metadata": {
        "id": "view-in-github",
        "colab_type": "text"
      },
      "source": [
        "<a href=\"https://colab.research.google.com/github/nithinaditya/ctci-python/blob/main/arrays.ipynb\" target=\"_parent\"><img src=\"https://colab.research.google.com/assets/colab-badge.svg\" alt=\"Open In Colab\"/></a>"
      ]
    },
    {
      "cell_type": "code",
      "source": [
        "# 1.1 IsUnique\n",
        "def containsDuplicate(nums):\n",
        "  if(len(nums) == len(set(nums))):\n",
        "    return False\n",
        "  else:\n",
        "    return True\n",
        "        "
      ],
      "metadata": {
        "id": "5q42bDiBf2WP"
      },
      "execution_count": null,
      "outputs": []
    },
    {
      "cell_type": "code",
      "source": [
        "# 1.2 Check Permutation\n",
        "# Decide if two strings are anagrams of one another\n",
        "\n",
        "def anagram(first, second):\n",
        "    return sorted(first) == sorted(second)\n",
        "\n",
        "\n",
        "def main():\n",
        "    anagram('a', 'b')\n",
        "    anagram('a', 'aa')\n",
        "    anagram('hi', 'hi')\n",
        "    anagram('hello there', 'there hello')\n"
      ],
      "metadata": {
        "id": "oIGC_mrhh-jW"
      },
      "execution_count": null,
      "outputs": []
    },
    {
      "cell_type": "code",
      "execution_count": null,
      "metadata": {
        "id": "VFIz_yUEesVp",
        "colab": {
          "base_uri": "https://localhost:8080/"
        },
        "outputId": "f77cd140-cce6-4511-aac5-d9fd1644467c"
      },
      "outputs": [
        {
          "output_type": "stream",
          "name": "stdout",
          "text": [
            "Mr%20John%20Smith\n"
          ]
        }
      ],
      "source": [
        "# 1.3 URLify\n",
        "def replace(str):\n",
        "    new = str.strip()\n",
        "    #print(new)\n",
        "        #print(len(new))\n",
        "    ans = ''\n",
        "    index = len(new)\n",
        "    for i in range(index -1, -1, -1):\n",
        "        if(new[i] == ' '):\n",
        "            ans = '%20' + ans\n",
        "        else:\n",
        "            ans = new[i] + ans\n",
        "    print(ans)\n",
        "        \n",
        "\n",
        "replace('Mr John Smith                              ')"
      ]
    },
    {
      "cell_type": "code",
      "source": [
        "# 1.6 String Compression\n",
        "def compression(string):\n",
        "    list = []\n",
        "    count = 1\n",
        "    new = ''\n",
        "    for i in range(0, len(string)):\n",
        "        count = 1\n",
        "        if string[i] == string[i-1] and i > -1:\n",
        "            continue\n",
        "        for j in range(i+1, len(string)):\n",
        "            if string[i] == string[j]:\n",
        "                count += 1\n",
        "        list.append(count)\n",
        "        #print(list)\n",
        "    print(list)\n",
        "\n",
        "    for i in range(0, len(list)):\n",
        "        if i> 0:\n",
        "            print(string[i + list[i-1] -1])\n",
        "            new += string[i + list[i-1]- 1] + str(list[i])\n",
        "        else:\n",
        "            new += string[i] + str(list[i])\n",
        "    print(new)\n",
        "        \n",
        "        \n",
        "\n",
        "compression('hhhelllooo')"
      ],
      "metadata": {
        "id": "l3bTQglkfuZh"
      },
      "execution_count": null,
      "outputs": []
    },
    {
      "cell_type": "code",
      "source": [
        "#1.9 String Rotation\n",
        "#https://leetcode.com/problems/rotate-string/\n",
        "class Solution:\n",
        "    def rotateString(self, s: str, goal: str) -> bool:\n",
        "        if len(s) == len(goal) and s in goal+goal:\n",
        "            return True\n",
        "        return False"
      ],
      "metadata": {
        "id": "wgV-pIXrrwVw"
      },
      "execution_count": null,
      "outputs": []
    }
  ]
}