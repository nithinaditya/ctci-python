{
  "nbformat": 4,
  "nbformat_minor": 0,
  "metadata": {
    "colab": {
      "provenance": [],
      "authorship_tag": "ABX9TyOE+AiGlL8Lsyhy1R+VOXnV",
      "include_colab_link": true
    },
    "kernelspec": {
      "name": "python3",
      "display_name": "Python 3"
    },
    "language_info": {
      "name": "python"
    }
  },
  "cells": [
    {
      "cell_type": "markdown",
      "metadata": {
        "id": "view-in-github",
        "colab_type": "text"
      },
      "source": [
        "<a href=\"https://colab.research.google.com/github/nithinaditya/ctci-python/blob/main/ctci.ipynb\" target=\"_parent\"><img src=\"https://colab.research.google.com/assets/colab-badge.svg\" alt=\"Open In Colab\"/></a>"
      ]
    },
    {
      "cell_type": "code",
      "execution_count": null,
      "metadata": {
        "id": "bI60Gr813FtB"
      },
      "outputs": [],
      "source": [
        "#268. Missing Number\n",
        "#https://leetcode.com/problems/missing-number/\n",
        "class Solution:\n",
        "    def missingNumber(self, nums: List[int]) -> int:\n",
        "            new = [x for x in range(0, len(nums) + 1)]\n",
        "            for i in nums:\n",
        "                if i in new:\n",
        "                    new.remove(i)\n",
        "            res = new[0]\n",
        "            return  res"
      ]
    }
  ]
}