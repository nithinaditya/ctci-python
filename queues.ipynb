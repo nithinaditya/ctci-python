{
  "nbformat": 4,
  "nbformat_minor": 0,
  "metadata": {
    "colab": {
      "provenance": [],
      "authorship_tag": "ABX9TyPTUncU0BzG/pom+BYOlAeg",
      "include_colab_link": true
    },
    "kernelspec": {
      "name": "python3",
      "display_name": "Python 3"
    },
    "language_info": {
      "name": "python"
    }
  },
  "cells": [
    {
      "cell_type": "markdown",
      "metadata": {
        "id": "view-in-github",
        "colab_type": "text"
      },
      "source": [
        "<a href=\"https://colab.research.google.com/github/nithinaditya/ctci-python/blob/main/queues.ipynb\" target=\"_parent\"><img src=\"https://colab.research.google.com/assets/colab-badge.svg\" alt=\"Open In Colab\"/></a>"
      ]
    },
    {
      "cell_type": "code",
      "execution_count": null,
      "metadata": {
        "id": "mhTaSxePIg-D"
      },
      "outputs": [],
      "source": [
        "#232. Implement Queue using Stacks\n",
        "#https://leetcode.com/problems/implement-queue-using-stacks/\n",
        "class MyQueue:\n",
        "    def __init__(self):\n",
        "        self.Push = []\n",
        "        self.Pop = []\n",
        "    def push(self, x: int) -> None:\n",
        "        self.Push.append(x)        \n",
        "    def pop(self) -> int:\n",
        "        self.peek()\n",
        "        return self.Pop.pop()\n",
        "    def peek(self) -> int:\n",
        "        if len(self.Pop) == 0:\n",
        "            while self.Push:\n",
        "                self.Pop.append(self.Push.pop())\n",
        "        return self.Pop[-1]\n",
        "    def empty(self) -> bool:\n",
        "        return len(self.Pop) + len(self.Push) == 0\n"
      ]
    }
  ]
}